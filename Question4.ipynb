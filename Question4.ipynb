{
 "cells": [
  {
   "cell_type": "code",
   "execution_count": 2,
   "id": "28673ad0-4928-4359-a2ef-457edd6e6db0",
   "metadata": {},
   "outputs": [
    {
     "name": "stdout",
     "output_type": "stream",
     "text": [
      "Empty DataFrame\n",
      "Columns: [Date, Revenue]\n",
      "Index: []\n"
     ]
    }
   ],
   "source": [
    "import requests\n",
    "from bs4 import BeautifulSoup\n",
    "import pandas as pd\n",
    "\n",
    "url_gme = \"https://www.macrotrends.net/stocks/charts/GME/gamestop/revenue\"\n",
    "\n",
    "response_gme = requests.get(url_gme)\n",
    "soup_gme = BeautifulSoup(response_gme.text, \"html.parser\")\n",
    "\n",
    "table_gme = soup_gme.find(\"table\", {\"class\": \"historical_data_table table\"})\n",
    "\n",
    "data_gme = []\n",
    "if table_gme:\n",
    "    rows_gme = table_gme.find_all(\"tr\")[1:] \n",
    "    for row in rows_gme:\n",
    "        cols = row.find_all(\"td\")\n",
    "        cols = [col.text.strip() for col in cols]\n",
    "        data_gme.append(cols)\n",
    "\n",
    "columns = [\"Date\", \"Revenue\"]\n",
    "gme_revenue = pd.DataFrame(data_gme, columns=columns)\n",
    "\n",
    "print(gme_revenue.tail())"
   ]
  }
 ],
 "metadata": {
  "kernelspec": {
   "display_name": "Python 3 (ipykernel)",
   "language": "python",
   "name": "python3"
  },
  "language_info": {
   "codemirror_mode": {
    "name": "ipython",
    "version": 3
   },
   "file_extension": ".py",
   "mimetype": "text/x-python",
   "name": "python",
   "nbconvert_exporter": "python",
   "pygments_lexer": "ipython3",
   "version": "3.13.1"
  }
 },
 "nbformat": 4,
 "nbformat_minor": 5
}
