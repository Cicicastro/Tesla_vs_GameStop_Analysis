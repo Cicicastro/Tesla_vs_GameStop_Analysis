{
 "cells": [
  {
   "cell_type": "code",
   "execution_count": 1,
   "id": "d1b625d6-69f0-40cb-9eb0-59fd1c9d7ce9",
   "metadata": {},
   "outputs": [
    {
     "name": "stdout",
     "output_type": "stream",
     "text": [
      "Empty DataFrame\n",
      "Columns: [Date, Revenue]\n",
      "Index: []\n"
     ]
    }
   ],
   "source": [
    "import requests\n",
    "from bs4 import BeautifulSoup\n",
    "import pandas as pd\n",
    "\n",
    "url_tesla = \"https://www.macrotrends.net/stocks/charts/TSLA/tesla/revenue\"\n",
    "\n",
    "response_tesla = requests.get(url_tesla)\n",
    "soup_tesla = BeautifulSoup(response_tesla.text, \"html.parser\")\n",
    "\n",
    "table_tesla = soup_tesla.find(\"table\", {\"class\": \"historical_data_table table\"})\n",
    "\n",
    "data_tesla = []\n",
    "if table_tesla:\n",
    "    rows_tesla = table_tesla.find_all(\"tr\")[1:]  \n",
    "    for row in rows_tesla:\n",
    "        cols = row.find_all(\"td\")\n",
    "        cols = [col.text.strip() for col in cols]\n",
    "        data_tesla.append(cols)\n",
    "\n",
    "columns = [\"Date\", \"Revenue\"]\n",
    "tesla_revenue = pd.DataFrame(data_tesla, columns=columns)\n",
    "\n",
    "print(tesla_revenue.tail())"
   ]
  }
 ],
 "metadata": {
  "kernelspec": {
   "display_name": "Python 3 (ipykernel)",
   "language": "python",
   "name": "python3"
  },
  "language_info": {
   "codemirror_mode": {
    "name": "ipython",
    "version": 3
   },
   "file_extension": ".py",
   "mimetype": "text/x-python",
   "name": "python",
   "nbconvert_exporter": "python",
   "pygments_lexer": "ipython3",
   "version": "3.13.1"
  }
 },
 "nbformat": 4,
 "nbformat_minor": 5
}
